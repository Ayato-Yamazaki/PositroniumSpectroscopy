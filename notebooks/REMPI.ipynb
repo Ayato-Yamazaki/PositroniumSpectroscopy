{
 "cells": [
  {
   "cell_type": "code",
   "execution_count": 1,
   "metadata": {},
   "outputs": [],
   "source": [
    "%matplotlib inline"
   ]
  },
  {
   "cell_type": "code",
   "execution_count": 2,
   "metadata": {},
   "outputs": [],
   "source": [
    "import numpy as np\n",
    "import pandas as pd\n",
    "import matplotlib.pyplot as plt\n",
    "import seaborn as sns\n",
    "sns.set(style=\"ticks\", font_scale=1.25)\n",
    "from tqdm import tqdm\n",
    "import sspals\n",
    "from mc_sspals import initialize, annihilate, convert\n",
    "from mc_sspals.tools import spectrum\n",
    "from mc_sspals.laser import Laser, Transition, overlap, frac_excite, t_excite, photoionize\n",
    "from mc_sspals.plots import bksub"
   ]
  },
  {
   "cell_type": "code",
   "execution_count": 3,
   "metadata": {},
   "outputs": [],
   "source": [
    "# positrons\n",
    "num = int(1e6)\n",
    "sigma_x = 1e-3\n",
    "sigma_t = 2e-9\n",
    "# converter\n",
    "eff = 0.25\n",
    "T = 400\n",
    "# Lyman-alpha\n",
    "lyman_alpha = Transition(wavelength=243.0e-9, linewidth=1.0/(2*np.pi*3.2e-9))\n",
    "threshold = 0.002\n",
    "uv = Laser(energy=0.001, wavelength=2.43e-7, bandwidth=85e9, retro=False,\n",
    "           distance=0.0005, height=0.006, width=0.0025, trigger=15e-9, sigma_t=3e-9)\n",
    "# detector\n",
    "kappa = 9e-9\n",
    "dt = 1e-9\n",
    "limits = [-1.0E-8, 3.5e-8, 7e-7]"
   ]
  },
  {
   "cell_type": "code",
   "execution_count": 4,
   "metadata": {},
   "outputs": [
    {
     "data": {
      "text/html": [
       "<div>\n",
       "<style scoped>\n",
       "    .dataframe tbody tr th:only-of-type {\n",
       "        vertical-align: middle;\n",
       "    }\n",
       "\n",
       "    .dataframe tbody tr th {\n",
       "        vertical-align: top;\n",
       "    }\n",
       "\n",
       "    .dataframe thead th {\n",
       "        text-align: right;\n",
       "    }\n",
       "</style>\n",
       "<table border=\"1\" class=\"dataframe\">\n",
       "  <thead>\n",
       "    <tr style=\"text-align: right;\">\n",
       "      <th></th>\n",
       "      <th>status</th>\n",
       "      <th>lifetime</th>\n",
       "      <th>ti</th>\n",
       "      <th>xi</th>\n",
       "      <th>yi</th>\n",
       "      <th>zi</th>\n",
       "      <th>vx</th>\n",
       "      <th>vy</th>\n",
       "      <th>vz</th>\n",
       "    </tr>\n",
       "  </thead>\n",
       "  <tbody>\n",
       "    <tr>\n",
       "      <th>0</th>\n",
       "      <td>e+</td>\n",
       "      <td>0.000000e+00</td>\n",
       "      <td>3.376731e-09</td>\n",
       "      <td>0.001234</td>\n",
       "      <td>0.000725</td>\n",
       "      <td>0.0</td>\n",
       "      <td>NaN</td>\n",
       "      <td>NaN</td>\n",
       "      <td>NaN</td>\n",
       "    </tr>\n",
       "    <tr>\n",
       "      <th>1</th>\n",
       "      <td>o-Ps</td>\n",
       "      <td>4.121012e-08</td>\n",
       "      <td>4.714770e-09</td>\n",
       "      <td>-0.001342</td>\n",
       "      <td>0.001660</td>\n",
       "      <td>0.0</td>\n",
       "      <td>-121047.001788</td>\n",
       "      <td>88171.287529</td>\n",
       "      <td>39499.813409</td>\n",
       "    </tr>\n",
       "    <tr>\n",
       "      <th>2</th>\n",
       "      <td>e+</td>\n",
       "      <td>0.000000e+00</td>\n",
       "      <td>1.591101e-09</td>\n",
       "      <td>-0.001180</td>\n",
       "      <td>-0.000969</td>\n",
       "      <td>0.0</td>\n",
       "      <td>NaN</td>\n",
       "      <td>NaN</td>\n",
       "      <td>NaN</td>\n",
       "    </tr>\n",
       "    <tr>\n",
       "      <th>3</th>\n",
       "      <td>e+</td>\n",
       "      <td>0.000000e+00</td>\n",
       "      <td>1.243650e-09</td>\n",
       "      <td>-0.000438</td>\n",
       "      <td>-0.000282</td>\n",
       "      <td>0.0</td>\n",
       "      <td>NaN</td>\n",
       "      <td>NaN</td>\n",
       "      <td>NaN</td>\n",
       "    </tr>\n",
       "    <tr>\n",
       "      <th>4</th>\n",
       "      <td>e+</td>\n",
       "      <td>0.000000e+00</td>\n",
       "      <td>-1.869191e-09</td>\n",
       "      <td>-0.001233</td>\n",
       "      <td>0.000838</td>\n",
       "      <td>0.0</td>\n",
       "      <td>NaN</td>\n",
       "      <td>NaN</td>\n",
       "      <td>NaN</td>\n",
       "    </tr>\n",
       "  </tbody>\n",
       "</table>\n",
       "</div>"
      ],
      "text/plain": [
       "  status      lifetime            ti        xi        yi   zi             vx  \\\n",
       "0     e+  0.000000e+00  3.376731e-09  0.001234  0.000725  0.0            NaN   \n",
       "1   o-Ps  4.121012e-08  4.714770e-09 -0.001342  0.001660  0.0 -121047.001788   \n",
       "2     e+  0.000000e+00  1.591101e-09 -0.001180 -0.000969  0.0            NaN   \n",
       "3     e+  0.000000e+00  1.243650e-09 -0.000438 -0.000282  0.0            NaN   \n",
       "4     e+  0.000000e+00 -1.869191e-09 -0.001233  0.000838  0.0            NaN   \n",
       "\n",
       "             vy            vz  \n",
       "0           NaN           NaN  \n",
       "1  88171.287529  39499.813409  \n",
       "2           NaN           NaN  \n",
       "3           NaN           NaN  \n",
       "4           NaN           NaN  "
      ]
     },
     "execution_count": 4,
     "metadata": {},
     "output_type": "execute_result"
    }
   ],
   "source": [
    "di = initialize(num, sigma_t=sigma_t, sigma_x=sigma_x)\n",
    "df = convert(di, eff=eff, T=T)\n",
    "df.head()"
   ]
  },
  {
   "cell_type": "code",
   "execution_count": 5,
   "metadata": {},
   "outputs": [
    {
     "data": {
      "text/html": [
       "<div>\n",
       "<style scoped>\n",
       "    .dataframe tbody tr th:only-of-type {\n",
       "        vertical-align: middle;\n",
       "    }\n",
       "\n",
       "    .dataframe tbody tr th {\n",
       "        vertical-align: top;\n",
       "    }\n",
       "\n",
       "    .dataframe thead th {\n",
       "        text-align: right;\n",
       "    }\n",
       "</style>\n",
       "<table border=\"1\" class=\"dataframe\">\n",
       "  <thead>\n",
       "    <tr style=\"text-align: right;\">\n",
       "      <th></th>\n",
       "      <th>lifetime</th>\n",
       "      <th>ti</th>\n",
       "      <th>xi</th>\n",
       "      <th>yi</th>\n",
       "      <th>zi</th>\n",
       "      <th>vx</th>\n",
       "      <th>vy</th>\n",
       "      <th>vz</th>\n",
       "    </tr>\n",
       "    <tr>\n",
       "      <th>status</th>\n",
       "      <th></th>\n",
       "      <th></th>\n",
       "      <th></th>\n",
       "      <th></th>\n",
       "      <th></th>\n",
       "      <th></th>\n",
       "      <th></th>\n",
       "      <th></th>\n",
       "    </tr>\n",
       "  </thead>\n",
       "  <tbody>\n",
       "    <tr>\n",
       "      <th>e+</th>\n",
       "      <td>749555</td>\n",
       "      <td>749555</td>\n",
       "      <td>749555</td>\n",
       "      <td>749555</td>\n",
       "      <td>749555</td>\n",
       "      <td>0</td>\n",
       "      <td>0</td>\n",
       "      <td>0</td>\n",
       "    </tr>\n",
       "    <tr>\n",
       "      <th>ion</th>\n",
       "      <td>66653</td>\n",
       "      <td>66653</td>\n",
       "      <td>66653</td>\n",
       "      <td>66653</td>\n",
       "      <td>66653</td>\n",
       "      <td>66653</td>\n",
       "      <td>66653</td>\n",
       "      <td>66653</td>\n",
       "    </tr>\n",
       "    <tr>\n",
       "      <th>o-Ps</th>\n",
       "      <td>183792</td>\n",
       "      <td>183792</td>\n",
       "      <td>183792</td>\n",
       "      <td>183792</td>\n",
       "      <td>183792</td>\n",
       "      <td>183792</td>\n",
       "      <td>183792</td>\n",
       "      <td>183792</td>\n",
       "    </tr>\n",
       "  </tbody>\n",
       "</table>\n",
       "</div>"
      ],
      "text/plain": [
       "        lifetime      ti      xi      yi      zi      vx      vy      vz\n",
       "status                                                                  \n",
       "e+        749555  749555  749555  749555  749555       0       0       0\n",
       "ion        66653   66653   66653   66653   66653   66653   66653   66653\n",
       "o-Ps      183792  183792  183792  183792  183792  183792  183792  183792"
      ]
     },
     "execution_count": 5,
     "metadata": {},
     "output_type": "execute_result"
    }
   ],
   "source": [
    "dp = photoionize(df, uv, lyman_alpha, threshold, prob=1.0)\n",
    "dp.groupby('status').count()"
   ]
  },
  {
   "cell_type": "code",
   "execution_count": 6,
   "metadata": {},
   "outputs": [],
   "source": [
    "bk = annihilate(df)\n",
    "sig = annihilate(dp)"
   ]
  },
  {
   "cell_type": "code",
   "execution_count": 7,
   "metadata": {},
   "outputs": [
    {
     "data": {
      "image/png": "[encoded data removed]",
      "text/plain": [
       "<Figure size 432x360 with 2 Axes>"
      ]
     },
     "metadata": {},
     "output_type": "display_data"
    }
   ],
   "source": [
    "fig, ax = bksub()\n",
    "\n",
    "# MC\n",
    "xvals_bk, yvals_bk = spectrum(bk, amp=1.0, dt=dt, kappa=kappa)\n",
    "ax[0].plot(xvals_bk* 1e9, yvals_bk, c='k', lw=1, label='background')\n",
    "\n",
    "xvals, yvals = spectrum(sig, amp=1.0, dt=dt, kappa=kappa)\n",
    "ax[0].plot(xvals* 1e9, yvals, label='REMPI')\n",
    "\n",
    "ax[1].plot(xvals* 1e9, yvals - yvals_bk, label='difference')\n",
    "ax[1].plot(xvals* 1e9, 10 * (yvals - yvals_bk), c='C0', ls='--', lw=1, label=r'$\\times 10$')\n",
    "\n",
    "ax[1].set_ylim([-0.06, 0.06])\n",
    "ax[1].set_yticks([-0.06, -0.03, 0.0, 0.03, 0.06])\n",
    "\n",
    "ax[0].legend(loc=0, fontsize=10)\n",
    "ax[1].legend(loc=0, fontsize=10)\n",
    "\n",
    "sns.despine(ax=ax[0], trim=False)\n",
    "sns.despine(ax=ax[1], trim=False)\n",
    "\n",
    "#output\n",
    "plt.savefig(\"../images/mc_ion.pdf\", bbox_inches='tight', dpi=200)\n",
    "plt.show()"
   ]
  },
  {
   "cell_type": "code",
   "execution_count": 8,
   "metadata": {},
   "outputs": [
    {
     "data": {
      "text/plain": [
       "0.27862636903268956"
      ]
     },
     "execution_count": 8,
     "metadata": {},
     "output_type": "execute_result"
    }
   ],
   "source": [
    "frac_excite(df, uv, lyman_alpha, threshold, prob=1.0)"
   ]
  },
  {
   "cell_type": "code",
   "execution_count": 9,
   "metadata": {},
   "outputs": [
    {
     "data": {
      "text/plain": [
       "0.1749053947038268"
      ]
     },
     "execution_count": 9,
     "metadata": {},
     "output_type": "execute_result"
    }
   ],
   "source": [
    "fd = sspals.sspals_1d(spectrum(sig, amp=1.0, dt=dt, kappa=kappa)[1], dt, limits=limits)[-1]\n",
    "fd"
   ]
  },
  {
   "cell_type": "code",
   "execution_count": 10,
   "metadata": {},
   "outputs": [
    {
     "data": {
      "text/plain": [
       "0.22667735333294653"
      ]
     },
     "execution_count": 10,
     "metadata": {},
     "output_type": "execute_result"
    }
   ],
   "source": [
    "fb = sspals.sspals_1d(spectrum(bk, amp=1.0, dt=dt, kappa=kappa)[1], dt, limits=limits)[-1]\n",
    "fb"
   ]
  },
  {
   "cell_type": "code",
   "execution_count": 11,
   "metadata": {},
   "outputs": [
    {
     "data": {
      "text/plain": [
       "22.839493168546234"
      ]
     },
     "execution_count": 11,
     "metadata": {},
     "output_type": "execute_result"
    }
   ],
   "source": [
    "sspals.signal(fd, 0, fb, 0)[0]"
   ]
  },
  {
   "cell_type": "code",
   "execution_count": null,
   "metadata": {},
   "outputs": [],
   "source": []
  }
 ],
 "metadata": {
  "kernelspec": {
   "display_name": "Python 3",
   "language": "python",
   "name": "python3"
  },
  "language_info": {
   "codemirror_mode": {
    "name": "ipython",
    "version": 3
   },
   "file_extension": ".py",
   "mimetype": "text/x-python",
   "name": "python",
   "nbconvert_exporter": "python",
   "pygments_lexer": "ipython3",
   "version": "3.6.5"
  }
 },
 "nbformat": 4,
 "nbformat_minor": 2
}
