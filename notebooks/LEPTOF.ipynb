{
 "cells": [
  {
   "cell_type": "code",
   "execution_count": 1,
   "metadata": {
    "collapsed": true
   },
   "outputs": [],
   "source": [
    "# py27 compatability\n",
    "from __future__ import print_function\n",
    "from __future__ import division\n",
    "# load packages\n",
    "import numpy as np                                          # advanced array functions\n",
    "import pandas as pd                                         # DataFrames\n",
    "from mpl_toolkits.mplot3d import Axes3D\n",
    "import matplotlib.pyplot as plt                             # plotting\n",
    "from matplotlib.ticker import ScalarFormatter\n",
    "from mpl_toolkits.axes_grid1 import make_axes_locatable\n",
    "# configure matplotlib\n",
    "%matplotlib inline\n",
    "import seaborn as sns                                       # statistics/ plotting\n",
    "sns.set(style=\"ticks\", font_scale=1.25)\n",
    "from tqdm import tqdm                                       # progress bar\n",
    "import sspals\n",
    "from mc_positronium import *"
   ]
  },
  {
   "cell_type": "markdown",
   "metadata": {},
   "source": [
    "## Ps conversion"
   ]
  },
  {
   "cell_type": "code",
   "execution_count": 2,
   "metadata": {
    "collapsed": true
   },
   "outputs": [],
   "source": [
    "# simulate Ps converter\n",
    "num=1e5\n",
    "T = 800\n",
    "sim_bk = Ps_converter(num, T=T)"
   ]
  },
  {
   "cell_type": "markdown",
   "metadata": {},
   "source": [
    "## Laser Interaction"
   ]
  },
  {
   "cell_type": "code",
   "execution_count": null,
   "metadata": {
    "collapsed": true
   },
   "outputs": [],
   "source": [
    "laser = Laser(wavelength=243.0e-9, trigger=1.5e-8, height=0.008)\n",
    "lyman_a = Spectroscopy(lambda_0=243.0e-9, linewidth=1.0/(2*np.pi*3.2e-9))\n",
    "# excitation threshold\n",
    "ol_threshold = 0.001"
   ]
  },
  {
   "cell_type": "markdown",
   "metadata": {},
   "source": [
    "## delay scan"
   ]
  },
  {
   "cell_type": "code",
   "execution_count": null,
   "metadata": {},
   "outputs": [
    {
     "name": "stderr",
     "output_type": "stream",
     "text": [
      "delay:  12%|█▏        | 3/25 [00:01<00:12,  1.71it/s]"
     ]
    }
   ],
   "source": [
    "# SSPALS spectrum\n",
    "laser_off = sim_bk['time of death']\n",
    "\n",
    "# convolve\n",
    "dt = 1e-9\n",
    "bins = np.arange(-5e-8, 8e-7, dt)\n",
    "pwo = detector(np.arange(-1e-8, 2e-7, dt), 1e-8)\n",
    "lt_off = np.histogram(laser_off.values, bins=bins, density=False)[0]\n",
    "spectra_off = np.convolve(lt_off, pwo)\n",
    "\n",
    "#delay\n",
    "spectra = []\n",
    "trig_vals = np.arange(0, 2.5e-7, 1e-8)\n",
    "for trig in tqdm(trig_vals, desc='delay', leave=False):\n",
    "    sim = Ps_converter(num, T=T)\n",
    "    lz = Laser(wavelength=243.0e-9, trigger=trig, height=0.008, distance=0.002)\n",
    "    laser_on = lyman_a.photoionize(sim, lz, ol_threshold)['time of death']\n",
    "    lt_on = np.histogram(laser_on.values, bins=bins, density=False)[0]\n",
    "    spectra.append(np.convolve(lt_on, pwo))"
   ]
  },
  {
   "cell_type": "code",
   "execution_count": null,
   "metadata": {},
   "outputs": [],
   "source": [
    "# plot setup\n",
    "fig, ax = plt.subplots(figsize=(6,5))\n",
    "\n",
    "# background subtraction subplot\n",
    "divider = make_axes_locatable(ax)\n",
    "axx = divider.append_axes(\"bottom\", size=1.2, pad=0.2, sharex=ax)\n",
    "\n",
    "# background\n",
    "x_vals = np.arange(len(spectra_off)) * dt\n",
    "rescale_off = 0.5*spectra_off / max(spectra_off)\n",
    "#ax.plot(x_vals * 1e9 - 62, rescale_off, lw=1, zorder=100, label='background')\n",
    "\n",
    "# signal\n",
    "for spectra_on in spectra:\n",
    "    rescale_on =  0.5*spectra_on / max(spectra_off)\n",
    "    ax.plot(x_vals * 1e9 -62, rescale_on, lw=0.5, c=sns.color_palette()[1])\n",
    "    axx.plot(x_vals * 1e9 -62, rescale_on - rescale_off, lw=0.5, c=sns.color_palette()[2])\n",
    "\n",
    "#format\n",
    "#ax.legend()\n",
    "#axx.legend()\n",
    "ax.set_yscale('log')\n",
    "ax.set_ylabel(\"signal (arb.)\")\n",
    "axx.set_xlabel(\"time (ns)\")\n",
    "ax.set_ylim(1e-4, 1)\n",
    "ax.set_xlim(-50, 400)\n",
    "sns.despine()\n",
    "plt.setp(ax.get_xticklabels(), visible=False)\n",
    "axx.set_ylim([-0.04, 0.06])\n",
    "axx.set_yticks([-0.03, 0, 0.03, 0.06])\n",
    "axx.axhline(0, color='k', lw=0.5, alpha=0.5)\n",
    "\n",
    "#output\n",
    "plt.tight_layout()\n",
    "plt.savefig(\"../images/mc_leptof.pdf\", dpi=200, bbox_inches='tight')\n",
    "plt.show()"
   ]
  },
  {
   "cell_type": "code",
   "execution_count": null,
   "metadata": {},
   "outputs": [],
   "source": [
    "from mpl_toolkits.mplot3d import Axes3D\n",
    "from matplotlib.collections import PolyCollection\n",
    "import matplotlib.pyplot as plt\n",
    "from matplotlib import colors as mcolors\n",
    "import numpy as np\n",
    "\n",
    "\n",
    "fig = plt.figure(figsize=(8, 6))\n",
    "ax = fig.gca(projection='3d')\n",
    "\n",
    "m1 = ((x_vals * 1e9 -62)*1e-3) > 0 \n",
    "m2 = ((x_vals * 1e9 -62)*1e-3) < 0.25\n",
    "mask = m1 & m2\n",
    "xs = ((x_vals * 1e9 -62)*1e-3)[mask]\n",
    "verts = []\n",
    "yoffset = 0.08\n",
    "for spectra_on in spectra:\n",
    "    rescale_on =  0.5*spectra_on / max(spectra_off)\n",
    "    ys = (rescale_on - rescale_off)[mask]/0.025\n",
    "    ys[0], ys[-1] = -yoffset, -yoffset\n",
    "    verts.append(list(zip(xs, ys+yoffset)))\n",
    "\n",
    "poly = PolyCollection(verts, facecolors='k', edgecolors='w', linewidths=1.2)\n",
    "poly.set_alpha(0.7)\n",
    "ax.add_collection3d(poly, zs=trig_vals*1e6, zdir='y')\n",
    "ax.set_xlabel('\\n time ($\\mu$s)', linespacing=3)\n",
    "ax.set_xlim3d(0, 0.25)\n",
    "ax.set_ylabel('\\n laser trigger ($\\mu$s)', linespacing=3)\n",
    "ax.set_ylim3d(0.25, 0)\n",
    "ax.set_zlabel('\\n signal (arb.)', linespacing=3)\n",
    "ax.set_zlim3d(0, 1)\n",
    "ax.view_init(elev=20., azim=-75)\n",
    "\n",
    "# output\n",
    "plt.tight_layout()\n",
    "plt.savefig(\"../images/mc_leptof_3d.pdf\", dpi=200, bbox_inches='tight')\n",
    "plt.show()"
   ]
  },
  {
   "cell_type": "code",
   "execution_count": null,
   "metadata": {
    "collapsed": true
   },
   "outputs": [],
   "source": []
  }
 ],
 "metadata": {
  "kernelspec": {
   "display_name": "Python 3",
   "language": "python",
   "name": "python3"
  },
  "language_info": {
   "codemirror_mode": {
    "name": "ipython",
    "version": 3
   },
   "file_extension": ".py",
   "mimetype": "text/x-python",
   "name": "python",
   "nbconvert_exporter": "python",
   "pygments_lexer": "ipython3",
   "version": "3.6.2"
  }
 },
 "nbformat": 4,
 "nbformat_minor": 1
}
